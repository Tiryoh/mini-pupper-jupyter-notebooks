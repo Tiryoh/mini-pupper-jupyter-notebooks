{
 "cells": [
  {
   "cell_type": "markdown",
   "id": "ddda93a8",
   "metadata": {},
   "source": [
    "# Visualize Camera\n",
    "\n",
    "SPDX-License-Identifier: MIT  \n",
    "SPDX-FileCopyrightText: 2022 Daisuke Sato\n",
    "\n",
    "https://github.com/Tiryoh/mini-pupper-jupyter-notebooks"
   ]
  },
  {
   "cell_type": "markdown",
   "id": "d373e32e-7684-41e1-bb8c-0fb4702a4cd0",
   "metadata": {},
   "source": [
    "## Set Network configuration"
   ]
  },
  {
   "cell_type": "code",
   "execution_count": null,
   "id": "1c71e881",
   "metadata": {},
   "outputs": [],
   "source": [
    "# NETWORK_INTERFACE=\"eth0\"\n",
    "NETWORK_INTERFACE=\"wlan0\"\n",
    "\n",
    "import netifaces as ni\n",
    "ip_address = ni.ifaddresses(NETWORK_INTERFACE)[ni.AF_INET][0]['addr']\n",
    "print(ip_address)"
   ]
  },
  {
   "cell_type": "code",
   "execution_count": null,
   "id": "41f6e363",
   "metadata": {},
   "outputs": [],
   "source": [
    "import os\n",
    "\n",
    "# Set self ip address\n",
    "os.environ['ROS_IP'] = ip_address\n",
    "\n",
    "# Set ROS_MASTER_URI\n",
    "ROS_MASTER_IP=ip_address\n",
    "# ROS_MASTER_IP=\"192.168.10.14\" # custom\n",
    "\n",
    "os.environ['ROS_MASTER_URI'] = 'http://{}:11311'.format(ROS_MASTER_IP)\n",
    "print(\"ROS_MASTER_IP is {}\".format(ROS_MASTER_IP))"
   ]
  },
  {
   "cell_type": "markdown",
   "id": "836590d3-10de-4b11-83e2-ab5c5d2ed3dc",
   "metadata": {},
   "source": [
    "### Check environment  \n",
    "\n",
    "It should outputs like this:\n",
    "\n",
    "```\n",
    "192.168.10.23\n",
    "http://192.168.10.14:11311\n",
    "```\n",
    "\n",
    "If the result is `http://localhost:11311`, re-run the above procedure."
   ]
  },
  {
   "cell_type": "code",
   "execution_count": null,
   "id": "35c51641",
   "metadata": {},
   "outputs": [],
   "source": [
    "# Check Env\n",
    "!echo $ROS_IP\n",
    "!echo $ROS_MASTER_URI"
   ]
  },
  {
   "cell_type": "markdown",
   "id": "fe3442cc-68e9-40e4-a4ed-9abf230ad44a",
   "metadata": {},
   "source": [
    "## Import libraries"
   ]
  },
  {
   "cell_type": "code",
   "execution_count": null,
   "id": "71b733d4",
   "metadata": {},
   "outputs": [],
   "source": [
    "from sidecar import Sidecar\n",
    "# Using jupyros(jupyter-ros) 0.5.0 from conda for now\n",
    "try:\n",
    "    from jupyros import ros3d\n",
    "except ImportError:\n",
    "    from jupyros.ros1 import ros3d\n",
    "\n",
    "# Check jupyros version\n",
    "import jupyros\n",
    "print(jupyros.__version__)"
   ]
  },
  {
   "cell_type": "markdown",
   "id": "a52e1902-9c03-4516-a80c-a776eba86427",
   "metadata": {},
   "source": [
    "## Subscribe camera image"
   ]
  },
  {
   "cell_type": "markdown",
   "id": "4d63efe5-5793-437f-9742-5f92b6dba3bc",
   "metadata": {},
   "source": [
    "### Check topic\n",
    "\n",
    "If it shows `ERROR: Unable to communicate with master!` or `ERROR: Unknown topic /image_raw`, re-run the network configuration step."
   ]
  },
  {
   "cell_type": "code",
   "execution_count": null,
   "id": "3e2bd49b-6fb7-4712-8a7a-8eceaa04e2ed",
   "metadata": {},
   "outputs": [],
   "source": [
    "!rostopic info /image_raw"
   ]
  },
  {
   "cell_type": "code",
   "execution_count": null,
   "id": "ca9426d8-78e6-4291-89c5-dbca39f0ea65",
   "metadata": {},
   "outputs": [],
   "source": [
    "from IPython.display import display\n",
    "import ipywidgets.widgets as widgets\n",
    "\n",
    "\n",
    "image_widget = widgets.Image(format='jpeg', width=300, height=300)\n",
    "try:\n",
    "    sc = Sidecar(title='Camera Sidecar Output')\n",
    "    with sc:\n",
    "        display(widgets.VBox([image_widget]))\n",
    "except:\n",
    "    display(widgets.VBox([image_widget]))"
   ]
  },
  {
   "cell_type": "code",
   "execution_count": null,
   "id": "90eea8b8-1ab0-4ec8-9428-762ea597bba5",
   "metadata": {},
   "outputs": [],
   "source": [
    "import cv2\n",
    "from cv_bridge import CvBridge, CvBridgeError\n",
    "from io import BytesIO\n",
    "\n",
    "bridge = CvBridge()\n",
    "scale = 0.5\n",
    "\n",
    "def callback(msg):\n",
    "    # pil_image = PIL.Image.fromarray(np.frombuffer(msg.data))\n",
    "    # if pil_image.mode != \"RGB\":\n",
    "    #     pil_image = pil_image.convert(\"RGB\")\n",
    "    # frame_buffer = BytesIO()\n",
    "    # pil_image.save(frame_buffer, \"jpeg\")\n",
    "\n",
    "    # numpy_array = np.frombuffer(msg.data, np.uint8)\n",
    "    # scale = 0.5\n",
    "    # height = msg.height\n",
    "    # width = msg.width\n",
    "    # _, frame = cv2.imencode('.jpg', cv2.resize(numpy_array, (int(width*scale), int(height*scale))), [int(cv2.IMWRITE_JPEG_QUALITY), 50])\n",
    "    # frame_buffer = BytesIO(frame)\n",
    "    # image_widget.value = frame_buffer.getvalue()\n",
    "\n",
    "    try:\n",
    "        cv_image = bridge.imgmsg_to_cv2(msg, \"bgr8\")\n",
    "    except CvBridgeError as e:\n",
    "        rospy.logerr(\"CvBridge Error: {0}\".format(e))\n",
    "\n",
    "    height = cv_image.shape[0]\n",
    "    width = cv_image.shape[1]\n",
    "    _, frame = cv2.imencode('.jpg', cv2.resize(cv_image, (int(width*scale), int(height*scale))), [int(cv2.IMWRITE_JPEG_QUALITY), 50])\n",
    "    frame_buffer = BytesIO(frame)\n",
    "    image_widget.value = frame_buffer.getvalue()"
   ]
  },
  {
   "cell_type": "code",
   "execution_count": null,
   "id": "93d8562f-fc06-4633-bbdb-60a463da891f",
   "metadata": {},
   "outputs": [],
   "source": [
    "import jupyros\n",
    "import rospy\n",
    "from sensor_msgs.msg import Image\n",
    "rospy.init_node(\"image_subscriber\")\n",
    "jupyros.subscribe(\"/image_raw\", Image, callback)"
   ]
  },
  {
   "cell_type": "markdown",
   "id": "93341a92-6d91-4a16-9d52-f5be21df4cb3",
   "metadata": {},
   "source": [
    "#### Debug\n",
    "\n",
    "If the outputs shows no scan data, check the \"rosbridge_websocket\" node is alive, and client count is not 0. It should be 1 or more."
   ]
  },
  {
   "cell_type": "markdown",
   "id": "5549ba7a-8884-46e6-a64b-9b7c8067beb6",
   "metadata": {},
   "source": [
    "The result of `rosnode info rosbridge_websocket` should be like this:\n",
    "\n",
    "```\n",
    "Node [/rosbridge_websocket]\n",
    "Publications: \n",
    " * /client_count [std_msgs/Int32]\n",
    " * /connected_clients [rosbridge_msgs/ConnectedClients]\n",
    " * /rosout [rosgraph_msgs/Log]\n",
    " * /tf2_web_republisher/cancel [actionlib_msgs/GoalID]\n",
    " * /tf2_web_republisher/goal [tf2_web_republisher/TFSubscriptionActionGoal]\n",
    "\n",
    "Subscriptions: \n",
    " * /scan [sensor_msgs/LaserScan]\n",
    " * /tf2_web_republisher/feedback [tf2_web_republisher/TFSubscriptionActionFeedback]\n",
    "\n",
    "Services: \n",
    " * /rosbridge_websocket/get_loggers\n",
    " * /rosbridge_websocket/set_logger_level\n",
    " ```"
   ]
  },
  {
   "cell_type": "code",
   "execution_count": null,
   "id": "7ff0f4be-e526-4dcc-abc6-ab5c230f146a",
   "metadata": {},
   "outputs": [],
   "source": [
    "!rosnode info rosbridge_websocket"
   ]
  },
  {
   "cell_type": "code",
   "execution_count": null,
   "id": "0cf43df1-f5df-4445-b8ca-e9cd60f2b786",
   "metadata": {},
   "outputs": [],
   "source": [
    "import rospy\n",
    "from jupyros import subscribe\n",
    "from std_msgs.msg import Int32\n",
    "\n",
    "if rospy.is_shutdown():\n",
    "    rospy.init_node('rosbridge_subscribe_node')\n",
    "subscribe('/client_count', Int32, lambda msg: print(msg))"
   ]
  },
  {
   "cell_type": "code",
   "execution_count": null,
   "id": "d0543711-8389-49ae-ae2f-2e01224283d7",
   "metadata": {},
   "outputs": [],
   "source": []
  }
 ],
 "metadata": {
  "kernelspec": {
   "display_name": "Python 3 (ipykernel)",
   "language": "python",
   "name": "python3"
  },
  "language_info": {
   "codemirror_mode": {
    "name": "ipython",
    "version": 3
   },
   "file_extension": ".py",
   "mimetype": "text/x-python",
   "name": "python",
   "nbconvert_exporter": "python",
   "pygments_lexer": "ipython3",
   "version": "3.8.13"
  }
 },
 "nbformat": 4,
 "nbformat_minor": 5
}
