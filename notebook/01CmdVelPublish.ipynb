{
 "cells": [
  {
   "cell_type": "markdown",
   "id": "ed14d354-aca9-4511-8a3f-f09106d871bb",
   "metadata": {
    "tags": []
   },
   "source": [
    "# Publish cmd_vel\n",
    "\n",
    "SPDX-License-Identifier: MIT  \n",
    "SPDX-FileCopyrightText: 2022 Daisuke Sato\n",
    "\n",
    "https://github.com/Tiryoh/mini-pupper-jupyter-notebooks"
   ]
  },
  {
   "cell_type": "markdown",
   "id": "28158478-5abe-4ef2-8fcf-45735f868550",
   "metadata": {},
   "source": [
    "## Set Network configuration"
   ]
  },
  {
   "cell_type": "code",
   "execution_count": null,
   "id": "6a3047a4-f84c-4b1a-acf2-efa23d30b20f",
   "metadata": {},
   "outputs": [],
   "source": [
    "# NETWORK_INTERFACE=\"eth0\"\n",
    "NETWORK_INTERFACE=\"wlan0\"\n",
    "\n",
    "import netifaces as ni\n",
    "ip_address = ni.ifaddresses(NETWORK_INTERFACE)[ni.AF_INET][0]['addr']\n",
    "print(ip_address)"
   ]
  },
  {
   "cell_type": "code",
   "execution_count": null,
   "id": "64e328b9-7359-4633-944e-70925d17f3e0",
   "metadata": {},
   "outputs": [],
   "source": [
    "import os\n",
    "\n",
    "# Set self ip address\n",
    "os.environ['ROS_IP'] = ip_address\n",
    "\n",
    "# Set ROS_MASTER_URI\n",
    "ROS_MASTER_IP=ip_address\n",
    "# ROS_MASTER_IP=\"192.168.10.14\" # modify here to specify custom ip\n",
    "\n",
    "os.environ['ROS_MASTER_URI'] = 'http://{}:11311'.format(ROS_MASTER_IP)\n",
    "print(\"ROS_MASTER_IP is {}\".format(ROS_MASTER_IP))"
   ]
  },
  {
   "cell_type": "markdown",
   "id": "8cace39e-0ed2-4eb1-9f0a-7cae29338184",
   "metadata": {},
   "source": [
    "### Check environment  \n",
    "\n",
    "It should outputs like this:\n",
    "\n",
    "```\n",
    "192.168.10.12\n",
    "http://192.168.10.12:11311\n",
    "```\n",
    "\n",
    "If the result is `http://localhost:11311`, re-run the above procedure."
   ]
  },
  {
   "cell_type": "code",
   "execution_count": null,
   "id": "d160e346-32d2-4b36-94f7-7a67d0258a44",
   "metadata": {},
   "outputs": [],
   "source": [
    "# Check Env\n",
    "!echo $ROS_IP\n",
    "!echo $ROS_MASTER_URI"
   ]
  },
  {
   "cell_type": "markdown",
   "id": "8d211d89-2fe1-4497-a333-a2f12b1c0e4f",
   "metadata": {},
   "source": [
    "## Import libraries"
   ]
  },
  {
   "cell_type": "code",
   "execution_count": null,
   "id": "6e07ed3c-f60e-4977-a2a0-b9097c1da619",
   "metadata": {},
   "outputs": [],
   "source": [
    "import rospy\n",
    "import jupyros\n",
    "from geometry_msgs.msg import Twist"
   ]
  },
  {
   "cell_type": "markdown",
   "id": "3033a634-2ef7-4d9b-8e4d-926eee6f3d4c",
   "metadata": {},
   "source": [
    "## Publish topic\n",
    "\n",
    "To make the robot move, login via SSH and execute `roslaunch mini_pupper_bringup bringup.launch` in the terminal.  \n",
    "After that, run the below cell and input linear:x `0.1` and click \"Start\" button.  \n",
    "__Note that the robot will start moving immediately when you press \"Start\".__\n",
    "\n",
    "If the result is `Unable to register with master node [http://192.168.10.12:11311]: master may not be running yet. Will keep trying.`, check if the `bringup.launch` has executed successfully."
   ]
  },
  {
   "cell_type": "code",
   "execution_count": null,
   "id": "a211d17d-5446-45e3-9a0b-a2de146519d0",
   "metadata": {},
   "outputs": [],
   "source": [
    "rospy.init_node('cmd_vel_publish_node')\n",
    "jupyros.publish('/cmd_vel', Twist)"
   ]
  },
  {
   "cell_type": "code",
   "execution_count": null,
   "id": "1927be49-1acf-4355-b143-76f2bbf22bfd",
   "metadata": {},
   "outputs": [],
   "source": []
  }
 ],
 "metadata": {
  "kernelspec": {
   "display_name": "Python 3 (ipykernel)",
   "language": "python",
   "name": "python3"
  },
  "language_info": {
   "codemirror_mode": {
    "name": "ipython",
    "version": 3
   },
   "file_extension": ".py",
   "mimetype": "text/x-python",
   "name": "python",
   "nbconvert_exporter": "python",
   "pygments_lexer": "ipython3",
   "version": "3.8.13"
  }
 },
 "nbformat": 4,
 "nbformat_minor": 5
}
