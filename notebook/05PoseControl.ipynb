{
 "cells": [
  {
   "cell_type": "markdown",
   "id": "ddda93a8",
   "metadata": {},
   "source": [
    "# Pose Control\n",
    "\n",
    "SPDX-License-Identifier: MIT  \n",
    "SPDX-FileCopyrightText: 2022 Daisuke Sato\n",
    "\n",
    "https://github.com/Tiryoh/mini-pupper-jupyter-notebooks\n",
    "\n",
    "## Reference\n",
    "\n",
    "* https://github.com/EdjeElectronics/TensorFlow-Lite-Object-Detection-on-Android-and-Raspberry-Pi"
   ]
  },
  {
   "cell_type": "markdown",
   "id": "d373e32e-7684-41e1-bb8c-0fb4702a4cd0",
   "metadata": {},
   "source": [
    "## Set Network configuration"
   ]
  },
  {
   "cell_type": "code",
   "execution_count": null,
   "id": "1c71e881",
   "metadata": {},
   "outputs": [],
   "source": [
    "# NETWORK_INTERFACE=\"eth0\"\n",
    "NETWORK_INTERFACE=\"wlan0\"\n",
    "\n",
    "import netifaces as ni\n",
    "ip_address = ni.ifaddresses(NETWORK_INTERFACE)[ni.AF_INET][0]['addr']\n",
    "print(ip_address)"
   ]
  },
  {
   "cell_type": "code",
   "execution_count": null,
   "id": "41f6e363",
   "metadata": {},
   "outputs": [],
   "source": [
    "import os\n",
    "\n",
    "# Set self ip address\n",
    "os.environ['ROS_IP'] = ip_address\n",
    "\n",
    "# Set ROS_MASTER_URI\n",
    "ROS_MASTER_IP=ip_address\n",
    "# ROS_MASTER_IP=\"192.168.10.14\" # modify here to specify custom ip\n",
    "\n",
    "os.environ['ROS_MASTER_URI'] = 'http://{}:11311'.format(ROS_MASTER_IP)\n",
    "print(\"ROS_MASTER_IP is {}\".format(ROS_MASTER_IP))"
   ]
  },
  {
   "cell_type": "markdown",
   "id": "836590d3-10de-4b11-83e2-ab5c5d2ed3dc",
   "metadata": {},
   "source": [
    "### Check environment  \n",
    "\n",
    "It should outputs like this:\n",
    "\n",
    "```\n",
    "192.168.10.12\n",
    "http://192.168.10.12:11311\n",
    "```\n",
    "\n",
    "If the result is `http://localhost:11311`, re-run the above procedure."
   ]
  },
  {
   "cell_type": "code",
   "execution_count": null,
   "id": "35c51641",
   "metadata": {},
   "outputs": [],
   "source": [
    "# Check Env\n",
    "!echo $ROS_IP\n",
    "!echo $ROS_MASTER_URI"
   ]
  },
  {
   "cell_type": "markdown",
   "id": "fe3442cc-68e9-40e4-a4ed-9abf230ad44a",
   "metadata": {},
   "source": [
    "## Import libraries"
   ]
  },
  {
   "cell_type": "code",
   "execution_count": null,
   "id": "71b733d4",
   "metadata": {},
   "outputs": [],
   "source": [
    "from sidecar import Sidecar\n",
    "# Using jupyros(jupyter-ros) 0.5.0 from conda for now\n",
    "try:\n",
    "    from jupyros import ros3d\n",
    "except ImportError:\n",
    "    from jupyros.ros1 import ros3d\n",
    "\n",
    "# Check jupyros version\n",
    "import jupyros\n",
    "print(jupyros.__version__)"
   ]
  },
  {
   "cell_type": "markdown",
   "id": "a52e1902-9c03-4516-a80c-a776eba86427",
   "metadata": {},
   "source": [
    "## Publish pose topic and control robot"
   ]
  },
  {
   "cell_type": "markdown",
   "id": "4d63efe5-5793-437f-9742-5f92b6dba3bc",
   "metadata": {},
   "source": [
    "### Check topic\n",
    "\n",
    "If it shows `ERROR: Unable to communicate with master!` or `ERROR: Unknown topic /body_pose`, re-run the network configuration step."
   ]
  },
  {
   "cell_type": "code",
   "execution_count": null,
   "id": "3e2bd49b-6fb7-4712-8a7a-8eceaa04e2ed",
   "metadata": {},
   "outputs": [],
   "source": [
    "!rostopic info /body_pose"
   ]
  },
  {
   "cell_type": "markdown",
   "id": "d4fd0656-90b2-4c19-b442-a51dc7e4cd4d",
   "metadata": {},
   "source": [
    "### Prepare publisher"
   ]
  },
  {
   "cell_type": "code",
   "execution_count": null,
   "id": "fb316a30-05a0-4cac-9647-73e964d81872",
   "metadata": {},
   "outputs": [],
   "source": [
    "import jupyros\n",
    "import rospy\n",
    "from sensor_msgs.msg import Image\n",
    "from geometry_msgs.msg import Pose\n",
    "\n",
    "rospy.init_node(\"pose_publisher\")\n",
    "pub = rospy.Publisher('/body_pose', Pose, queue_size=10)"
   ]
  },
  {
   "cell_type": "markdown",
   "id": "7b0265b7-b04e-4c0f-8103-fb88d2beaf1f",
   "metadata": {},
   "source": [
    "### Create widget"
   ]
  },
  {
   "cell_type": "code",
   "execution_count": null,
   "id": "ca9426d8-78e6-4291-89c5-dbca39f0ea65",
   "metadata": {},
   "outputs": [],
   "source": [
    "from IPython.display import display\n",
    "import ipywidgets.widgets as widgets\n",
    "import math\n",
    "\n",
    "roll = 0\n",
    "pitch = 0\n",
    "yaw = 0\n",
    "\n",
    "yaw_widget = widgets.FloatSlider(min = -0.2, max = 0.2, step = 0.01, description='yaw')\n",
    "pitch_widget = widgets.FloatSlider(min = -0.2, max = 0.2, step = 0.01, description='pitch')\n",
    "\n",
    "\n",
    "display(widgets.VBox([\n",
    "    pitch_widget,\n",
    "    yaw_widget\n",
    "]))"
   ]
  },
  {
   "cell_type": "markdown",
   "id": "4c1a91d6-7e5a-4604-9afa-aab185407f0c",
   "metadata": {},
   "source": [
    "#### Enable widget\n",
    "\n",
    "Run the below cell to start publishing pose topic form widget."
   ]
  },
  {
   "cell_type": "code",
   "execution_count": null,
   "id": "90eea8b8-1ab0-4ec8-9428-762ea597bba5",
   "metadata": {},
   "outputs": [],
   "source": [
    "%%thread_cell\n",
    "\n",
    "rate = rospy.Rate(5)\n",
    "while not rospy.is_shutdown():\n",
    "    pose = Pose()\n",
    "\n",
    "    yaw = yaw_widget.value\n",
    "    pitch = pitch_widget.value\n",
    "\n",
    "    cy = math.cos(yaw)\n",
    "    sy = math.sin(yaw)\n",
    "    cp = math.cos(pitch)\n",
    "    sp = math.sin(pitch)\n",
    "    cr = math.cos(roll)\n",
    "    sr = math.sin(roll)\n",
    "\n",
    "    pose.orientation.w = cy * cp * cr + sy * sp * sr\n",
    "    pose.orientation.x = cy * cp * sr - sy * sp * cr\n",
    "    pose.orientation.y = sy * cp * sr + cy * sp * cr\n",
    "    pose.orientation.z = sy * cp * cr - cy * sp * sr\n",
    "\n",
    "    pub.publish(pose)\n",
    "    rate.sleep()"
   ]
  },
  {
   "cell_type": "code",
   "execution_count": null,
   "id": "93d8562f-fc06-4633-bbdb-60a463da891f",
   "metadata": {},
   "outputs": [],
   "source": [
    "jupyros.subscribe(\"/body_pose\", Pose, lambda msg: print(msg))"
   ]
  },
  {
   "cell_type": "code",
   "execution_count": null,
   "id": "7b5fb8f8-28fe-43f9-938e-cccd718dfcfd",
   "metadata": {},
   "outputs": [],
   "source": []
  }
 ],
 "metadata": {
  "kernelspec": {
   "display_name": "Python 3 (ipykernel)",
   "language": "python",
   "name": "python3"
  },
  "language_info": {
   "codemirror_mode": {
    "name": "ipython",
    "version": 3
   },
   "file_extension": ".py",
   "mimetype": "text/x-python",
   "name": "python",
   "nbconvert_exporter": "python",
   "pygments_lexer": "ipython3",
   "version": "3.8.13"
  }
 },
 "nbformat": 4,
 "nbformat_minor": 5
}
