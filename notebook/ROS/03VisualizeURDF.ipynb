{
 "cells": [
  {
   "cell_type": "markdown",
   "id": "ddda93a8",
   "metadata": {},
   "source": [
    "# Visualize Laser Scan\n",
    "\n",
    "SPDX-License-Identifier: MIT  \n",
    "SPDX-FileCopyrightText: 2022 Daisuke Sato\n",
    "\n",
    "https://github.com/Tiryoh/mini-pupper-jupyter-notebooks"
   ]
  },
  {
   "cell_type": "markdown",
   "id": "d373e32e-7684-41e1-bb8c-0fb4702a4cd0",
   "metadata": {},
   "source": [
    "## Set Network configuration"
   ]
  },
  {
   "cell_type": "code",
   "execution_count": 1,
   "id": "1c71e881",
   "metadata": {},
   "outputs": [
    {
     "name": "stdout",
     "output_type": "stream",
     "text": [
      "192.168.10.23\n"
     ]
    }
   ],
   "source": [
    "# NETWORK_INTERFACE=\"eth0\"\n",
    "NETWORK_INTERFACE=\"wlan0\"\n",
    "\n",
    "import netifaces as ni\n",
    "ip_address = ni.ifaddresses(NETWORK_INTERFACE)[ni.AF_INET][0]['addr']\n",
    "print(ip_address)"
   ]
  },
  {
   "cell_type": "code",
   "execution_count": 2,
   "id": "41f6e363",
   "metadata": {},
   "outputs": [],
   "source": [
    "import os\n",
    "\n",
    "# Set self ip address\n",
    "os.environ['ROS_IP'] = ip_address\n",
    "\n",
    "# Set ROS_MASTER_URI\n",
    "# ROS_MASTER_IP=ip_address\n",
    "ROS_MASTER_IP=\"192.168.10.14\" # custom\n",
    "\n",
    "os.environ['ROS_MASTER_URI'] = 'http://{}:11311'.format(ROS_MASTER_IP)"
   ]
  },
  {
   "cell_type": "markdown",
   "id": "836590d3-10de-4b11-83e2-ab5c5d2ed3dc",
   "metadata": {},
   "source": [
    "### Check environment  \n",
    "\n",
    "It should outputs like this:\n",
    "\n",
    "```\n",
    "192.168.10.23\n",
    "http://192.168.10.14:11311\n",
    "```\n",
    "\n",
    "If the result is `http://localhost:11311`, re-run the above procedure."
   ]
  },
  {
   "cell_type": "code",
   "execution_count": 3,
   "id": "35c51641",
   "metadata": {},
   "outputs": [
    {
     "name": "stdout",
     "output_type": "stream",
     "text": [
      "192.168.10.23\n",
      "http://192.168.10.14:11311\n"
     ]
    }
   ],
   "source": [
    "# Check Env\n",
    "!echo $ROS_IP\n",
    "!echo $ROS_MASTER_URI"
   ]
  },
  {
   "cell_type": "markdown",
   "id": "fe3442cc-68e9-40e4-a4ed-9abf230ad44a",
   "metadata": {},
   "source": [
    "## Import libraries"
   ]
  },
  {
   "cell_type": "code",
   "execution_count": 4,
   "id": "71b733d4",
   "metadata": {},
   "outputs": [
    {
     "name": "stdout",
     "output_type": "stream",
     "text": [
      "0.5.0\n"
     ]
    }
   ],
   "source": [
    "from sidecar import Sidecar\n",
    "# jupyros(jupyter-ros) 0.6.0 is not availabe on conda for now\n",
    "try:\n",
    "    from jupyros import ros3d\n",
    "except ImportError:\n",
    "    from jupyros.ros1 import ros3d\n",
    "\n",
    "# Check jupyros version\n",
    "import jupyros\n",
    "print(jupyros.__version__)"
   ]
  },
  {
   "cell_type": "markdown",
   "id": "b79a91a4-751c-4123-9e39-25a8b9efb70d",
   "metadata": {},
   "source": [
    "## Create View\n",
    "\n",
    "The output should look like this:\n",
    "\n",
    "<img src=\"https://i.gyazo.com/f5092c17bc8753f6c278346e48901b96.png\" width=\"400px\" />"
   ]
  },
  {
   "cell_type": "code",
   "execution_count": 19,
   "id": "ab7ccda3",
   "metadata": {},
   "outputs": [],
   "source": [
    "grid = ros3d.GridModel()\n",
    "grid.color = '#CCC'\n",
    "viewer = ros3d.Viewer()\n",
    "viewer.layout.height= '1000px'\n",
    "viewer.objects = [grid]\n",
    "\n",
    "try:\n",
    "    sc = Sidecar(title='Sidecar Output')\n",
    "    with sc:\n",
    "        display(viewer)\n",
    "except:\n",
    "    display(viewer)"
   ]
  },
  {
   "cell_type": "markdown",
   "id": "a52e1902-9c03-4516-a80c-a776eba86427",
   "metadata": {},
   "source": [
    "## Subscribe Laser Scan"
   ]
  },
  {
   "cell_type": "markdown",
   "id": "4d63efe5-5793-437f-9742-5f92b6dba3bc",
   "metadata": {},
   "source": [
    "### Check topic\n",
    "\n",
    "If it shows `ERROR: Unable to communicate with master!` or `ERROR: Unknown topic /scans`, re-run the network configuration step."
   ]
  },
  {
   "cell_type": "code",
   "execution_count": 6,
   "id": "ce125630-bcc8-4ba8-8e00-6177a13383ca",
   "metadata": {},
   "outputs": [
    {
     "name": "stdout",
     "output_type": "stream",
     "text": [
      "Type: sensor_msgs/LaserScan\n",
      "\n",
      "Publishers: \n",
      " * /LD06 (http://192.168.10.14:43479/)\n",
      "\n",
      "Subscribers: \n",
      " * /rosbridge_websocket (http://192.168.10.14:46601/)\n",
      "\n",
      "\n"
     ]
    }
   ],
   "source": [
    "!rostopic info /scan"
   ]
  },
  {
   "cell_type": "markdown",
   "id": "72672d00-0811-4216-b69f-ac72bb6dd435",
   "metadata": {},
   "source": [
    "### View scan topic\n",
    "\n",
    "The output should look like this:\n",
    "\n",
    "<img src=\"https://i.gyazo.com/db3430f1648fc9a30df1facc87339f75.png\" width=\"400px\" />\n",
    "\n",
    "Reference\n",
    "* https://jupyter-ros.readthedocs.io/en/latest/reference.html"
   ]
  },
  {
   "cell_type": "code",
   "execution_count": 20,
   "id": "4e084a2f",
   "metadata": {},
   "outputs": [],
   "source": [
    "ros_connection = ros3d.ROSConnection(url=\"ws://{}:9090\".format(ROS_MASTER_IP))\n",
    "tf_client = ros3d.TFClient(ros=ros_connection, fixed_frame=\"base_link\")\n",
    "laser_view = ros3d.LaserScan(topic=\"/scan\", ros=ros_connection, tf_client=tf_client)\n",
    "urdf_view = ros3d.URDFModel(ros=ros_connection, tf_client=tf_client, url='http://{}:3000'.format(ROS_MASTER_IP))\n",
    "laser_view.point_size = 0.02\n",
    "laser_view.static_color = \"red\"\n",
    "\n",
    "viewer.objects = [grid, laser_view, urdf_view]"
   ]
  },
  {
   "cell_type": "code",
   "execution_count": null,
   "id": "37c90eef",
   "metadata": {},
   "outputs": [],
   "source": [
    "!rosnode info rosbridge_websocket"
   ]
  },
  {
   "cell_type": "code",
   "execution_count": null,
   "id": "d0543711-8389-49ae-ae2f-2e01224283d7",
   "metadata": {},
   "outputs": [],
   "source": []
  }
 ],
 "metadata": {
  "kernelspec": {
   "display_name": "Python 3 (ipykernel)",
   "language": "python",
   "name": "python3"
  },
  "language_info": {
   "codemirror_mode": {
    "name": "ipython",
    "version": 3
   },
   "file_extension": ".py",
   "mimetype": "text/x-python",
   "name": "python",
   "nbconvert_exporter": "python",
   "pygments_lexer": "ipython3",
   "version": "3.8.13"
  }
 },
 "nbformat": 4,
 "nbformat_minor": 5
}
