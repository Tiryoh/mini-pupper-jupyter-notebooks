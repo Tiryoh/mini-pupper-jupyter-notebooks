{
 "cells": [
  {
   "cell_type": "markdown",
   "id": "ed14d354-aca9-4511-8a3f-f09106d871bb",
   "metadata": {},
   "source": [
    "# Publish cmd_vel\n",
    "\n",
    "SPDX-License-Identifier: MIT  \n",
    "SPDX-FileCopyrightText: 2022 Daisuke Sato\n",
    "\n",
    "https://github.com/Tiryoh/mini-pupper-jupyter-notebooks"
   ]
  },
  {
   "cell_type": "code",
   "execution_count": 29,
   "id": "6a3047a4-f84c-4b1a-acf2-efa23d30b20f",
   "metadata": {},
   "outputs": [
    {
     "name": "stdout",
     "output_type": "stream",
     "text": [
      "192.168.100.6\n"
     ]
    }
   ],
   "source": [
    "NETWORK_INTERFACE=\"eth0\"\n",
    "# NETWORK_INTERFACE=\"wlan0\"\n",
    "\n",
    "import netifaces as ni\n",
    "ip_address = ni.ifaddresses(NETWORK_INTERFACE)[ni.AF_INET][0]['addr']\n",
    "print(ip_address)"
   ]
  },
  {
   "cell_type": "code",
   "execution_count": 33,
   "id": "64e328b9-7359-4633-944e-70925d17f3e0",
   "metadata": {},
   "outputs": [],
   "source": [
    "import os\n",
    "\n",
    "# Set self ip address\n",
    "os.environ['ROS_IP'] = ip_address\n",
    "\n",
    "# Set ROS_MASTER_URI\n",
    "# ROS_MASTER_URI=ip_address\n",
    "ROS_MASTER_URI=\"192.168.100.5\" # custom\n",
    "\n",
    "os.environ['ROS_MASTER_URI'] = 'http://{}:11311'.format(ROS_MASTER_URI)"
   ]
  },
  {
   "cell_type": "code",
   "execution_count": 34,
   "id": "d160e346-32d2-4b36-94f7-7a67d0258a44",
   "metadata": {},
   "outputs": [
    {
     "name": "stdout",
     "output_type": "stream",
     "text": [
      "192.168.100.6\n",
      "192.168.100.5\n"
     ]
    }
   ],
   "source": [
    "# Check Env\n",
    "!echo $ROS_IP\n",
    "!echo $ROS_MASTER_URI"
   ]
  },
  {
   "cell_type": "code",
   "execution_count": 22,
   "id": "6e07ed3c-f60e-4977-a2a0-b9097c1da619",
   "metadata": {},
   "outputs": [],
   "source": [
    "import rospy\n",
    "import jupyros\n",
    "from geometry_msgs.msg import Twist\n",
    "\n",
    "rospy.init_node('cmd_vel_publish_node')"
   ]
  },
  {
   "cell_type": "code",
   "execution_count": 23,
   "id": "a211d17d-5446-45e3-9a0b-a2de146519d0",
   "metadata": {},
   "outputs": [
    {
     "data": {
      "application/vnd.jupyter.widget-view+json": {
       "model_id": "d5a59d496f134f3ebfb1c9d49f5d30db",
       "version_major": 2,
       "version_minor": 0
      },
      "text/plain": [
       "VBox(children=(Label(value='linear'), HBox(children=(Label(value='x', layout=Layout(width='100px')), FloatText…"
      ]
     },
     "metadata": {},
     "output_type": "display_data"
    }
   ],
   "source": [
    "jupyros.publish('/cmd_vel', Twist)"
   ]
  },
  {
   "cell_type": "code",
   "execution_count": null,
   "id": "1927be49-1acf-4355-b143-76f2bbf22bfd",
   "metadata": {},
   "outputs": [],
   "source": []
  }
 ],
 "metadata": {
  "kernelspec": {
   "display_name": "Python 3 (ipykernel)",
   "language": "python",
   "name": "python3"
  },
  "language_info": {
   "codemirror_mode": {
    "name": "ipython",
    "version": 3
   },
   "file_extension": ".py",
   "mimetype": "text/x-python",
   "name": "python",
   "nbconvert_exporter": "python",
   "pygments_lexer": "ipython3",
   "version": "3.8.13"
  }
 },
 "nbformat": 4,
 "nbformat_minor": 5
}
