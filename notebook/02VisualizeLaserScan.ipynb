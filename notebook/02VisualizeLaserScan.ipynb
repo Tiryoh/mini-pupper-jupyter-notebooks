{
 "cells": [
  {
   "cell_type": "markdown",
   "id": "ddda93a8",
   "metadata": {},
   "source": [
    "# Visualize Laser Scan\n",
    "\n",
    "SPDX-License-Identifier: MIT  \n",
    "SPDX-FileCopyrightText: 2022 Daisuke Sato\n",
    "\n",
    "https://github.com/Tiryoh/mini-pupper-jupyter-notebooks"
   ]
  },
  {
   "cell_type": "markdown",
   "id": "d373e32e-7684-41e1-bb8c-0fb4702a4cd0",
   "metadata": {},
   "source": [
    "## Set Network configuration"
   ]
  },
  {
   "cell_type": "code",
   "execution_count": null,
   "id": "1c71e881",
   "metadata": {},
   "outputs": [],
   "source": [
    "# NETWORK_INTERFACE=\"eth0\"\n",
    "NETWORK_INTERFACE=\"wlan0\"\n",
    "\n",
    "import netifaces as ni\n",
    "ip_address = ni.ifaddresses(NETWORK_INTERFACE)[ni.AF_INET][0]['addr']\n",
    "print(ip_address)"
   ]
  },
  {
   "cell_type": "code",
   "execution_count": null,
   "id": "41f6e363",
   "metadata": {},
   "outputs": [],
   "source": [
    "import os\n",
    "\n",
    "# Set self ip address\n",
    "os.environ['ROS_IP'] = ip_address\n",
    "\n",
    "# Set ROS_MASTER_URI\n",
    "ROS_MASTER_IP=ip_address\n",
    "# ROS_MASTER_IP=\"192.168.10.14\" # custom\n",
    "\n",
    "os.environ['ROS_MASTER_URI'] = 'http://{}:11311'.format(ROS_MASTER_IP)\n",
    "print(\"ROS_MASTER_IP is {}\".format(ROS_MASTER_IP))"
   ]
  },
  {
   "cell_type": "markdown",
   "id": "836590d3-10de-4b11-83e2-ab5c5d2ed3dc",
   "metadata": {},
   "source": [
    "### Check environment  \n",
    "\n",
    "It should outputs like this:\n",
    "\n",
    "```\n",
    "192.168.10.23\n",
    "http://192.168.10.14:11311\n",
    "```\n",
    "\n",
    "If the result is `http://localhost:11311`, re-run the above procedure."
   ]
  },
  {
   "cell_type": "code",
   "execution_count": null,
   "id": "35c51641",
   "metadata": {},
   "outputs": [],
   "source": [
    "# Check Env\n",
    "!echo $ROS_IP\n",
    "!echo $ROS_MASTER_URI"
   ]
  },
  {
   "cell_type": "markdown",
   "id": "fe3442cc-68e9-40e4-a4ed-9abf230ad44a",
   "metadata": {},
   "source": [
    "## Import libraries"
   ]
  },
  {
   "cell_type": "code",
   "execution_count": null,
   "id": "71b733d4",
   "metadata": {},
   "outputs": [],
   "source": [
    "from sidecar import Sidecar\n",
    "# Using jupyros(jupyter-ros) 0.5.0 from conda for now\n",
    "try:\n",
    "    from jupyros import ros3d\n",
    "except ImportError:\n",
    "    from jupyros.ros1 import ros3d\n",
    "\n",
    "# Check jupyros version\n",
    "import jupyros\n",
    "print(jupyros.__version__)"
   ]
  },
  {
   "cell_type": "markdown",
   "id": "b79a91a4-751c-4123-9e39-25a8b9efb70d",
   "metadata": {},
   "source": [
    "## Create View\n",
    "\n",
    "The output should look like this:\n",
    "\n",
    "<img src=\"https://i.gyazo.com/f5092c17bc8753f6c278346e48901b96.png\" width=\"400px\" />"
   ]
  },
  {
   "cell_type": "code",
   "execution_count": null,
   "id": "ab7ccda3",
   "metadata": {},
   "outputs": [],
   "source": [
    "grid = ros3d.GridModel()\n",
    "grid.color = '#CCC'\n",
    "viewer = ros3d.Viewer()\n",
    "viewer.layout.height= '1000px'\n",
    "viewer.objects = [grid]\n",
    "\n",
    "try:\n",
    "    sc = Sidecar(title='Sidecar Output')\n",
    "    with sc:\n",
    "        display(viewer)\n",
    "except:\n",
    "    display(viewer)"
   ]
  },
  {
   "cell_type": "markdown",
   "id": "a52e1902-9c03-4516-a80c-a776eba86427",
   "metadata": {},
   "source": [
    "## Subscribe Laser Scan"
   ]
  },
  {
   "cell_type": "markdown",
   "id": "4d63efe5-5793-437f-9742-5f92b6dba3bc",
   "metadata": {},
   "source": [
    "### Check topic\n",
    "\n",
    "If it shows `ERROR: Unable to communicate with master!` or `ERROR: Unknown topic /scans`, rerun the network configuration step."
   ]
  },
  {
   "cell_type": "code",
   "execution_count": null,
   "id": "ce125630-bcc8-4ba8-8e00-6177a13383ca",
   "metadata": {},
   "outputs": [],
   "source": [
    "!rostopic info /scan"
   ]
  },
  {
   "cell_type": "markdown",
   "id": "72672d00-0811-4216-b69f-ac72bb6dd435",
   "metadata": {
    "tags": []
   },
   "source": [
    "### View scan topic\n",
    "\n",
    "The output should look like this:\n",
    "\n",
    "<img src=\"https://i.gyazo.com/db3430f1648fc9a30df1facc87339f75.png\" width=\"400px\" />\n",
    "\n",
    "Reference\n",
    "* https://jupyter-ros.readthedocs.io/en/latest/reference.html"
   ]
  },
  {
   "cell_type": "code",
   "execution_count": null,
   "id": "4e084a2f",
   "metadata": {},
   "outputs": [],
   "source": [
    "ros_connection = ros3d.ROSConnection(url=\"ws://{}:9090\".format(ROS_MASTER_IP))\n",
    "tf_client = ros3d.TFClient(ros=ros_connection, fixed_frame=\"laser_frame\")\n",
    "laser_view = ros3d.LaserScan(topic=\"/scan\", ros=ros_connection, tf_client=tf_client)\n",
    "laser_view.point_size = 0.02\n",
    "laser_view.static_color = \"red\"\n",
    "\n",
    "viewer.objects = [grid, laser_view]"
   ]
  },
  {
   "cell_type": "markdown",
   "id": "996b63bc-daf7-48f1-ad5a-0547852414f1",
   "metadata": {},
   "source": [
    "#### Debug\n",
    "\n",
    "If the outputs shows no scan data, check the \"rosbridge_websocket\" node is alive, and client count is not 0. It should be 1 or more."
   ]
  },
  {
   "cell_type": "markdown",
   "id": "19525960-7af6-4e4b-9854-db1d904ceb62",
   "metadata": {},
   "source": [
    "The result of `rosnode info rosbridge_websocket` should be like this:\n",
    "\n",
    "```\n",
    "Node [/rosbridge_websocket]\n",
    "Publications: \n",
    " * /client_count [std_msgs/Int32]\n",
    " * /connected_clients [rosbridge_msgs/ConnectedClients]\n",
    " * /rosout [rosgraph_msgs/Log]\n",
    " * /tf2_web_republisher/cancel [actionlib_msgs/GoalID]\n",
    " * /tf2_web_republisher/goal [tf2_web_republisher/TFSubscriptionActionGoal]\n",
    "\n",
    "Subscriptions: \n",
    " * /scan [sensor_msgs/LaserScan]\n",
    " * /tf2_web_republisher/feedback [tf2_web_republisher/TFSubscriptionActionFeedback]\n",
    "\n",
    "Services: \n",
    " * /rosbridge_websocket/get_loggers\n",
    " * /rosbridge_websocket/set_logger_level\n",
    " ```"
   ]
  },
  {
   "cell_type": "code",
   "execution_count": null,
   "id": "37c90eef",
   "metadata": {},
   "outputs": [],
   "source": [
    "!rosnode info rosbridge_websocket"
   ]
  },
  {
   "cell_type": "code",
   "execution_count": null,
   "id": "d2e013fe",
   "metadata": {},
   "outputs": [],
   "source": [
    "import rospy\n",
    "from jupyros import subscribe\n",
    "from std_msgs.msg import Int32\n",
    "\n",
    "rospy.init_node('rosbridge_subscribe_node')\n",
    "subscribe('/client_count', Int32, lambda msg: print(msg))"
   ]
  },
  {
   "cell_type": "code",
   "execution_count": null,
   "id": "5dab331b-7cb0-46c8-b8a5-1be799a3452b",
   "metadata": {},
   "outputs": [],
   "source": []
  }
 ],
 "metadata": {
  "kernelspec": {
   "display_name": "Python 3 (ipykernel)",
   "language": "python",
   "name": "python3"
  },
  "language_info": {
   "codemirror_mode": {
    "name": "ipython",
    "version": 3
   },
   "file_extension": ".py",
   "mimetype": "text/x-python",
   "name": "python",
   "nbconvert_exporter": "python",
   "pygments_lexer": "ipython3",
   "version": "3.8.13"
  }
 },
 "nbformat": 4,
 "nbformat_minor": 5
}
